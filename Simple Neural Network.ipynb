{
 "cells": [
  {
   "cell_type": "markdown",
   "metadata": {},
   "source": [
    "# Simple Neural Network For Biggner"
   ]
  },
  {
   "cell_type": "markdown",
   "metadata": {},
   "source": [
    "<h1>Simple neural network.</h1>\n",
    "<h3>Muhammad Abbas davi</h3>\n",
    "<p>in this code i will show how to design the simple neural network and how its works.</p>\n",
    "<h2>I have split this code into five parts.</h2>\n",
    "<ol>\n",
    "    <li>Importing all pakages which is required</li>\n",
    "    <li>Then we will provide Inputs and Output</li>\n",
    "    <li>Design Our Model</li>\n",
    "    <li>Selecting Optimization and Loss Function.</li>\n",
    "    <li>And Finally we Train Our Model</li>\n",
    "</ol> "
   ]
  },
  {
   "cell_type": "markdown",
   "metadata": {},
   "source": [
    "# 1. Importing All Pakages which is Required"
   ]
  },
  {
   "cell_type": "markdown",
   "metadata": {},
   "source": [
    "<h2>Tensorflow</h2>\n",
    "<p>TensorFlow is a free and open-source software library for <b><i>Machine Learning (ML)</i></b>. It can be used across a range of tasks but has a particular focus on training and inference of deep neural networks.\n",
    "\n",
    "Tensorflow is a symbolic math library based on dataflow and differentiable programming. It is used for both research and production at Google.\n",
    "\n",
    "TensorFlow was developed by the Google Brain team for internal Google use. It was released under the Apache License 2.0 in 2015.</p>"
   ]
  },
  {
   "cell_type": "markdown",
   "metadata": {},
   "source": [
    "<h2>NumPy</h2>\n",
    "<p>NumPy (pronounced numpi (NUM-py) or sometimes numpee NUM-pee) is a library for the Python programming language, adding support for large, multi-dimensional arrays and matrices, along with a large collection of high-level mathematical functions to operate on these arrays.The ancestor of NumPy, Numeric, was originally created by Jim Hugunin with contributions from several other developers. In 2005, Travis Oliphant created NumPy by incorporating features of the competing Numarray into Numeric, with extensive modifications. NumPy is open-source software and has many contributors.</p>"
   ]
  },
  {
   "cell_type": "code",
   "execution_count": 1,
   "metadata": {},
   "outputs": [],
   "source": [
    "import tensorflow as tf\n",
    "import numpy as np\n",
    "#For Ploting we Just Import matplotlib\n",
    "import matplotlib.pyplot as plt"
   ]
  },
  {
   "cell_type": "markdown",
   "metadata": {},
   "source": [
    "# 2. Provide Input and Output"
   ]
  },
  {
   "cell_type": "code",
   "execution_count": 2,
   "metadata": {},
   "outputs": [
    {
     "name": "stdout",
     "output_type": "stream",
     "text": [
      "[[1]\n",
      " [2]\n",
      " [3]\n",
      " [4]\n",
      " [5]\n",
      " [6]\n",
      " [7]\n",
      " [8]\n",
      " [9]]\n"
     ]
    }
   ],
   "source": [
    "#now Create the simple Input which name is x\n",
    "x = np.array([\n",
    "    [1,2,3,4,5,6,7,8,9]\n",
    "]).T\n",
    "print(x)"
   ]
  },
  {
   "cell_type": "code",
   "execution_count": 3,
   "metadata": {
    "scrolled": true
   },
   "outputs": [
    {
     "name": "stdout",
     "output_type": "stream",
     "text": [
      "[[10]\n",
      " [20]\n",
      " [30]\n",
      " [40]\n",
      " [50]\n",
      " [60]\n",
      " [70]\n",
      " [80]\n",
      " [90]]\n"
     ]
    }
   ],
   "source": [
    "# Now Create the Simple Output which name is y.\n",
    "y = np.array([\n",
    "    [10,20,30,40,50,60,70,80,90]\n",
    "]).T\n",
    "print(y)"
   ]
  },
  {
   "cell_type": "code",
   "execution_count": 4,
   "metadata": {
    "scrolled": true
   },
   "outputs": [
    {
     "name": "stdout",
     "output_type": "stream",
     "text": [
      "the x shape is (9, 1) where the 9 is examples and the 1 is feature.\n",
      "the y shape is (9, 1) where the 9 is examples and the 1 is feature.\n"
     ]
    }
   ],
   "source": [
    "#Now We Check the Shape Of Our Input and Output\n",
    "print(\"the x shape is {} where the {} is examples and the {} is feature.\".format(x.shape,x.shape[0],x.shape[1]))\n",
    "print(\"the y shape is {} where the {} is examples and the {} is feature.\".format(y.shape,y.shape[0],y.shape[1]))"
   ]
  },
  {
   "cell_type": "code",
   "execution_count": 5,
   "metadata": {
    "scrolled": true
   },
   "outputs": [
    {
     "name": "stdout",
     "output_type": "stream",
     "text": [
      "(9, 1)\n",
      "(9, 1)\n"
     ]
    }
   ],
   "source": [
    "#you can also print shape like that.\n",
    "print(x.shape)\n",
    "print(y.shape)"
   ]
  },
  {
   "cell_type": "markdown",
   "metadata": {},
   "source": [
    "<h3>here is only one feature and this feature have 9 examples.</h3>\n",
    "<p>basically the feature mean Input. and example is sub-part of feature mean x is the feature and the 9 values are Examples<br>\n",
    "if we talk about the feature so its mean all value that include in input. if we talk about the example so thats mean it is the one of feature.<br>\n",
    "feature may be one or more then one it is not fixed.<br>\n",
    "and each feature have one or many examples.<br>\n",
    "</p>\n",
    "<img src='image1.png'>\n",
    "in the above table the overall x is the feature and the only 1 is the example of this feature.<br>\n",
    "<h3>Here are terminology Of Machine Learning</h3>\n",
    "<img src='image2.jpg'>"
   ]
  },
  {
   "cell_type": "markdown",
   "metadata": {},
   "source": [
    "# 3. Design Our Model."
   ]
  },
  {
   "cell_type": "code",
   "execution_count": 6,
   "metadata": {},
   "outputs": [],
   "source": [
    "# Now We design the Model.\n",
    "model = tf.keras.Sequential(name='Simple_Neural_Network')"
   ]
  },
  {
   "cell_type": "code",
   "execution_count": 7,
   "metadata": {},
   "outputs": [],
   "source": [
    "# Now Add the Layers.\n",
    "model.add(tf.keras.layers.Dense(units = 1 , input_shape = [1] , name = 'Input_Layer_with_one_Neuron'))\n",
    "model.add(tf.keras.layers.Dense(units = 2 , name = 'Hidden_Layer_1_with_Two_Neuron'))\n",
    "model.add(tf.keras.layers.Dense(units = 1 , name = 'Output_Layer_with_1_Neuron'))"
   ]
  },
  {
   "cell_type": "code",
   "execution_count": 8,
   "metadata": {},
   "outputs": [
    {
     "name": "stdout",
     "output_type": "stream",
     "text": [
      "Model: \"Simple_Neural_Network\"\n",
      "_________________________________________________________________\n",
      "Layer (type)                 Output Shape              Param #   \n",
      "=================================================================\n",
      "Input_Layer_with_one_Neuron  (None, 1)                 2         \n",
      "_________________________________________________________________\n",
      "Hidden_Layer_1_with_Two_Neur (None, 2)                 4         \n",
      "_________________________________________________________________\n",
      "Output_Layer_with_1_Neuron ( (None, 1)                 3         \n",
      "=================================================================\n",
      "Total params: 9\n",
      "Trainable params: 9\n",
      "Non-trainable params: 0\n",
      "_________________________________________________________________\n"
     ]
    }
   ],
   "source": [
    "# the Units mean how many neurons we wants.\n",
    "#Now Print Model is created and Now we Check the Summary of Our Model.\n",
    "model.summary()"
   ]
  },
  {
   "cell_type": "markdown",
   "metadata": {},
   "source": [
    "<h3>in the above summary there are first input layer have 2 perameters in which 1 is input and another is the bias value. similarly the second layer have 2 bias and the first neuron output is the input for these two neurons show below thats why its have 4 perameters.\n",
    "and the last layer have 3 perameters in which the two is the output of two neurons and one is the bias.\n",
    "    \n",
    "</h3>\n",
    "\n",
    "<h2>Our Model</h2>\n",
    "\n",
    "<img src='Output.png'>\n",
    "\n",
    "<h3>How Activation Function Look like.</h3>\n",
    "<img src = 'activ_func.png'>\n",
    "<h3>what is the activation Function</h3>\n",
    "<p>In artificial neural networks, the activation function of a node defines the output of that node given an input or set of inputs. A standard integrated circuit can be seen as a digital network of activation functions that can be \"ON\" (1) or \"OFF\" (0), depending on input. This is similar to the behavior of the linear perceptron in neural networks. However, only nonlinear activation functions allow such networks to compute nontrivial problems using only a small number of nodes, and such activation functions are called nonlinearities.</p>\n",
    "\n",
    "<img src='activation.png'>\n",
    "\n",
    "<h3>what is the bias</h3>\n",
    "<p>The activation function in Neural Networks takes an input 'x' multiplied by a weight 'w'. Bias allows you to shift the activation function by adding a constant (i.e. the given bias) to the input. Bias in Neural Networks can be thought of as analogous to the role of a constant in a linear function, whereby the line is effectively transposed by the constant value.\n",
    "<img src='no bias.png'>\n",
    "In a scenario with no bias, the input to the activation function is 'x' multiplied by the connection weight 'w0'.\n",
    "<img src='with bias.png'>\n",
    "In a scenario with bias, the input to the activation function is 'x' times the connection weight 'w0' plus the bias times the connection weight for the bias 'w1'. This has the effect of shifting the activation function by a constant amount (b * w1).\n",
    "</p>"
   ]
  },
  {
   "cell_type": "markdown",
   "metadata": {},
   "source": [
    "# 4. Optimization and Loss Function"
   ]
  },
  {
   "cell_type": "markdown",
   "metadata": {},
   "source": [
    "<p>In deep learning, we have the concept of loss, which tells us how poorly the model is performing at that current instant. Now we need to use this loss to train our network such that it performs better. Essentially what we need to do is to take the loss and try to minimize it, because a lower loss means our model is going to perform better. The process of minimizing (or maximizing) any mathematical expression is called optimization.<br>\n",
    "\n",
    "Optimizers are algorithms or methods used to change the attributes of the neural network such as weights and learning rate to reduce the losses. Optimizers are used to solve optimization problems by minimizing the function.</p>\n",
    "\n",
    "<h3>How do Optimizers work?</h3>\n",
    "<p>For a useful mental model, you can think of a hiker trying to get down a mountain with a blindfold on. It’s impossible to know which direction to go in, but there’s one thing she can know: if she’s going down (making progress) or going up (losing progress). Eventually, if she keeps taking steps that lead her downwards, she’ll reach the base.<br>\n",
    "\n",
    "Similarly, it’s impossible to know what your model’s weights should be right from the start. But with some trial and error based on the loss function (whether the hiker is descending), you can end up getting there eventually.<br>\n",
    "\n",
    "How you should change your weights or learning rates of your neural network to reduce the losses is defined by the optimizers you use. Optimization algorithms are responsible for reducing the losses and to provide the most accurate results possible.<br>\n",
    "\n",
    "Various optimizers are researched within the last few couples of years each having its advantages and disadvantages. Read the entire article to understand the working, advantages, and disadvantages of the algorithms.</p>\n",
    "\n",
    "<h3>There are Different Type of Optimizers.</h3>\n",
    "<ol>\n",
    "    <li>Gradient Descent</li>\n",
    "    <li>Stochastic Gradient Descent (SGD)</li>\n",
    "    <li>Mini Batch Stochastic Gradient Descent (MB-SGD)</li>\n",
    "    <li>SGD with momentum</li>\n",
    "    <li>Nesterov Accelerated Gradient (NAG)</li>\n",
    "    <li>Adaptive Gradient (AdaGrad)</li>\n",
    "    <li>AdaDelta</li>\n",
    "    <li>RMSprop</li>\n",
    "    <li>Adam</li>\n",
    "</ol>\n",
    "\n",
    "<h3>In this Code we will use the Adam.</h3>\n",
    "<h3>Adam</h3>\n",
    "<p>Adam can be looked at as a combination of RMSprop and Stochastic Gradient Descent with momentum.<br>\n",
    "\n",
    "Adam computes adaptive learning rates for each parameter. In addition to storing an exponentially decaying average of past squared gradients vt like Adadelta and RMSprop, Adam also keeps an exponentially decaying average of past gradients mt, similar to momentum. Whereas momentum can be seen as a ball running down a slope, Adam behaves like a heavy ball with friction, which thus prefers flat minima in the error surface.</p>\n",
    "\n",
    "<h3>Mean Squared Error</h3>\n",
    "<p>The Mean Squared Error, or MSE, loss is the default loss to use for regression problems.<br>\n",
    "\n",
    "Mathematically, it is the preferred loss function under the inference framework of maximum likelihood if the distribution of the target variable is Gaussian. It is the loss function to be evaluated first and only changed if you have a good reason.<br>\n",
    "\n",
    "Mean squared error is calculated as the average of the squared differences between the predicted and actual values. The result is always positive regardless of the sign of the predicted and actual values and a perfect value is 0.0. The squaring means that larger mistakes result in more error than smaller mistakes, meaning that the model is punished for making larger mistakes.<br>\n",
    "\n",
    "The mean squared error loss function can be used in Keras by specifying ‘mse‘ or ‘mean_squared_error‘ as the loss function when compiling the model.</p>"
   ]
  },
  {
   "cell_type": "code",
   "execution_count": 9,
   "metadata": {},
   "outputs": [],
   "source": [
    "# here we Compile the model mean select the Optimize and loss function.\n",
    "model.compile(optimizer=tf.keras.optimizers.Adam(learning_rate=0.5),\n",
    "             loss=tf.keras.losses.MeanSquaredError())"
   ]
  },
  {
   "cell_type": "markdown",
   "metadata": {},
   "source": [
    "# 5. Train Our Model."
   ]
  },
  {
   "cell_type": "code",
   "execution_count": 15,
   "metadata": {},
   "outputs": [
    {
     "name": "stdout",
     "output_type": "stream",
     "text": [
      "Epoch 1/200\n",
      "1/1 [==============================] - 0s 1ms/step - loss: 0.0395\n",
      "Epoch 2/200\n",
      "1/1 [==============================] - 0s 1000us/step - loss: 0.0164\n",
      "Epoch 3/200\n",
      "1/1 [==============================] - 0s 2ms/step - loss: 0.0659\n",
      "Epoch 4/200\n",
      "1/1 [==============================] - 0s 1ms/step - loss: 0.0800\n",
      "Epoch 5/200\n",
      "1/1 [==============================] - 0s 999us/step - loss: 0.0332\n",
      "Epoch 6/200\n",
      "1/1 [==============================] - 0s 2ms/step - loss: 0.0140\n",
      "Epoch 7/200\n",
      "1/1 [==============================] - 0s 2ms/step - loss: 0.0453\n",
      "Epoch 8/200\n",
      "1/1 [==============================] - 0s 1ms/step - loss: 0.0552\n",
      "Epoch 9/200\n",
      "1/1 [==============================] - 0s 1ms/step - loss: 0.0236\n",
      "Epoch 10/200\n",
      "1/1 [==============================] - 0s 2ms/step - loss: 0.0094\n",
      "Epoch 11/200\n",
      "1/1 [==============================] - 0s 1ms/step - loss: 0.0297\n",
      "Epoch 12/200\n",
      "1/1 [==============================] - 0s 2ms/step - loss: 0.0356\n",
      "Epoch 13/200\n",
      "1/1 [==============================] - 0s 1ms/step - loss: 0.0137\n",
      "Epoch 14/200\n",
      "1/1 [==============================] - 0s 1ms/step - loss: 0.0050\n",
      "Epoch 15/200\n",
      "1/1 [==============================] - 0s 2ms/step - loss: 0.0189\n",
      "Epoch 16/200\n",
      "1/1 [==============================] - 0s 3ms/step - loss: 0.0216\n",
      "Epoch 17/200\n",
      "1/1 [==============================] - 0s 1ms/step - loss: 0.0066\n",
      "Epoch 18/200\n",
      "1/1 [==============================] - 0s 1ms/step - loss: 0.0023\n",
      "Epoch 19/200\n",
      "1/1 [==============================] - 0s 2ms/step - loss: 0.0121\n",
      "Epoch 20/200\n",
      "1/1 [==============================] - 0s 997us/step - loss: 0.0126\n",
      "Epoch 21/200\n",
      "1/1 [==============================] - 0s 3ms/step - loss: 0.0026\n",
      "Epoch 22/200\n",
      "1/1 [==============================] - 0s 3ms/step - loss: 0.0014\n",
      "Epoch 23/200\n",
      "1/1 [==============================] - 0s 1ms/step - loss: 0.0083\n",
      "Epoch 24/200\n",
      "1/1 [==============================] - 0s 2ms/step - loss: 0.0075\n",
      "Epoch 25/200\n",
      "1/1 [==============================] - 0s 2ms/step - loss: 9.3688e-04\n",
      "Epoch 26/200\n",
      "1/1 [==============================] - 0s 3ms/step - loss: 0.0016\n",
      "Epoch 27/200\n",
      "1/1 [==============================] - 0s 1ms/step - loss: 0.0062\n",
      "Epoch 28/200\n",
      "1/1 [==============================] - 0s 1ms/step - loss: 0.0045\n",
      "Epoch 29/200\n",
      "1/1 [==============================] - 0s 2ms/step - loss: 5.2661e-04\n",
      "Epoch 30/200\n",
      "1/1 [==============================] - 0s 1ms/step - loss: 0.0021\n",
      "Epoch 31/200\n",
      "1/1 [==============================] - 0s 5ms/step - loss: 0.0047\n",
      "Epoch 32/200\n",
      "1/1 [==============================] - 0s 1000us/step - loss: 0.0027\n",
      "Epoch 33/200\n",
      "1/1 [==============================] - 0s 3ms/step - loss: 5.4511e-04\n",
      "Epoch 34/200\n",
      "1/1 [==============================] - 0s 1ms/step - loss: 0.0022\n",
      "Epoch 35/200\n",
      "1/1 [==============================] - 0s 3ms/step - loss: 0.0034\n",
      "Epoch 36/200\n",
      "1/1 [==============================] - 0s 1ms/step - loss: 0.0015\n",
      "Epoch 37/200\n",
      "1/1 [==============================] - ETA: 0s - loss: 5.8821e-0 - 0s 2ms/step - loss: 5.8821e-04\n",
      "Epoch 38/200\n",
      "1/1 [==============================] - 0s 1ms/step - loss: 0.0020\n",
      "Epoch 39/200\n",
      "1/1 [==============================] - 0s 999us/step - loss: 0.0022\n",
      "Epoch 40/200\n",
      "1/1 [==============================] - 0s 999us/step - loss: 6.6718e-04\n",
      "Epoch 41/200\n",
      "1/1 [==============================] - 0s 1ms/step - loss: 5.7414e-04\n",
      "Epoch 42/200\n",
      "1/1 [==============================] - 0s 2ms/step - loss: 0.0015\n",
      "Epoch 43/200\n",
      "1/1 [==============================] - 0s 2ms/step - loss: 0.0011\n",
      "Epoch 44/200\n",
      "1/1 [==============================] - 0s 2ms/step - loss: 2.0604e-04\n",
      "Epoch 45/200\n",
      "1/1 [==============================] - 0s 2ms/step - loss: 5.3382e-04\n",
      "Epoch 46/200\n",
      "1/1 [==============================] - 0s 2ms/step - loss: 0.0010\n",
      "Epoch 47/200\n",
      "1/1 [==============================] - 0s 2ms/step - loss: 4.5400e-04\n",
      "Epoch 48/200\n",
      "1/1 [==============================] - 0s 4ms/step - loss: 5.1161e-05\n",
      "Epoch 49/200\n",
      "1/1 [==============================] - 0s 3ms/step - loss: 4.8223e-04\n",
      "Epoch 50/200\n",
      "1/1 [==============================] - 0s 2ms/step - loss: 5.8285e-04\n",
      "Epoch 51/200\n",
      "1/1 [==============================] - 0s 3ms/step - loss: 1.0912e-04\n",
      "Epoch 52/200\n",
      "1/1 [==============================] - 0s 1ms/step - loss: 8.0932e-05\n",
      "Epoch 53/200\n",
      "1/1 [==============================] - 0s 2ms/step - loss: 4.1060e-04\n",
      "Epoch 54/200\n",
      "1/1 [==============================] - 0s 3ms/step - loss: 2.8508e-04\n",
      "Epoch 55/200\n",
      "1/1 [==============================] - 0s 3ms/step - loss: 1.0464e-05\n",
      "Epoch 56/200\n",
      "1/1 [==============================] - 0s 2ms/step - loss: 1.6058e-04\n",
      "Epoch 57/200\n",
      "1/1 [==============================] - 0s 2ms/step - loss: 3.0890e-04\n",
      "Epoch 58/200\n",
      "1/1 [==============================] - 0s 3ms/step - loss: 1.1494e-04\n",
      "Epoch 59/200\n",
      "1/1 [==============================] - 0s 2ms/step - loss: 3.4415e-05\n",
      "Epoch 60/200\n",
      "1/1 [==============================] - 0s 5ms/step - loss: 1.9890e-04\n",
      "Epoch 61/200\n",
      "1/1 [==============================] - 0s 999us/step - loss: 1.9147e-04\n",
      "Epoch 62/200\n",
      "1/1 [==============================] - 0s 999us/step - loss: 4.1915e-05\n",
      "Epoch 63/200\n",
      "1/1 [==============================] - 0s 2ms/step - loss: 8.1239e-05\n",
      "Epoch 64/200\n",
      "1/1 [==============================] - 0s 2ms/step - loss: 1.7149e-04\n",
      "Epoch 65/200\n",
      "1/1 [==============================] - 0s 2ms/step - loss: 8.9386e-05\n",
      "Epoch 66/200\n",
      "1/1 [==============================] - ETA: 0s - loss: 2.7285e-0 - 0s 2ms/step - loss: 2.7285e-05\n",
      "Epoch 67/200\n",
      "1/1 [==============================] - 0s 3ms/step - loss: 9.8842e-05\n",
      "Epoch 68/200\n",
      "1/1 [==============================] - 0s 3ms/step - loss: 1.0518e-04\n",
      "Epoch 69/200\n",
      "1/1 [==============================] - 0s 4ms/step - loss: 2.7368e-05\n",
      "Epoch 70/200\n",
      "1/1 [==============================] - 0s 2ms/step - loss: 3.5361e-05\n",
      "Epoch 71/200\n",
      "1/1 [==============================] - 0s 2ms/step - loss: 8.0066e-05\n",
      "Epoch 72/200\n",
      "1/1 [==============================] - 0s 999us/step - loss: 4.1621e-05\n",
      "Epoch 73/200\n",
      "1/1 [==============================] - 0s 3ms/step - loss: 7.3436e-06\n",
      "Epoch 74/200\n",
      "1/1 [==============================] - 0s 3ms/step - loss: 4.0641e-05\n",
      "Epoch 75/200\n",
      "1/1 [==============================] - 0s 2ms/step - loss: 4.4483e-05\n",
      "Epoch 76/200\n",
      "1/1 [==============================] - 0s 1ms/step - loss: 6.6873e-06\n",
      "Epoch 77/200\n",
      "1/1 [==============================] - 0s 1ms/step - loss: 1.1602e-05\n",
      "Epoch 78/200\n",
      "1/1 [==============================] - 0s 0s/step - loss: 3.3672e-05\n",
      "Epoch 79/200\n",
      "1/1 [==============================] - 0s 1ms/step - loss: 1.4748e-05\n",
      "Epoch 80/200\n",
      "1/1 [==============================] - 0s 2ms/step - loss: 5.3407e-07\n",
      "Epoch 81/200\n",
      "1/1 [==============================] - 0s 2ms/step - loss: 1.8545e-05\n",
      "Epoch 82/200\n",
      "1/1 [==============================] - 0s 1ms/step - loss: 1.9258e-05\n",
      "Epoch 83/200\n",
      "1/1 [==============================] - 0s 2ms/step - loss: 1.8543e-06\n",
      "Epoch 84/200\n",
      "1/1 [==============================] - 0s 2ms/step - loss: 7.3123e-06\n",
      "Epoch 85/200\n",
      "1/1 [==============================] - 0s 2ms/step - loss: 1.7297e-05\n",
      "Epoch 86/200\n",
      "1/1 [==============================] - 0s 1ms/step - loss: 6.8165e-06\n",
      "Epoch 87/200\n",
      "1/1 [==============================] - 0s 2ms/step - loss: 2.3760e-06\n",
      "Epoch 88/200\n",
      "1/1 [==============================] - 0s 1ms/step - loss: 1.1823e-05\n",
      "Epoch 89/200\n",
      "1/1 [==============================] - 0s 3ms/step - loss: 9.7448e-06\n",
      "Epoch 90/200\n",
      "1/1 [==============================] - 0s 1ms/step - loss: 1.9226e-06\n",
      "Epoch 91/200\n",
      "1/1 [==============================] - 0s 2ms/step - loss: 6.3021e-06\n",
      "Epoch 92/200\n",
      "1/1 [==============================] - 0s 4ms/step - loss: 9.2999e-06\n",
      "Epoch 93/200\n",
      "1/1 [==============================] - 0s 999us/step - loss: 3.0567e-06\n",
      "Epoch 94/200\n",
      "1/1 [==============================] - 0s 1ms/step - loss: 2.5915e-06\n",
      "Epoch 95/200\n",
      "1/1 [==============================] - 0s 2ms/step - loss: 6.7161e-06\n",
      "Epoch 96/200\n",
      "1/1 [==============================] - 0s 2ms/step - loss: 3.8383e-06\n",
      "Epoch 97/200\n",
      "1/1 [==============================] - 0s 2ms/step - loss: 8.8329e-07\n",
      "Epoch 98/200\n",
      "1/1 [==============================] - 0s 2ms/step - loss: 3.7891e-06\n",
      "Epoch 99/200\n",
      "1/1 [==============================] - 0s 1ms/step - loss: 3.6785e-06\n",
      "Epoch 100/200\n"
     ]
    },
    {
     "name": "stdout",
     "output_type": "stream",
     "text": [
      "1/1 [==============================] - 0s 2ms/step - loss: 5.2976e-07\n",
      "Epoch 101/200\n",
      "1/1 [==============================] - 0s 2ms/step - loss: 1.5495e-06\n",
      "Epoch 102/200\n",
      "1/1 [==============================] - 0s 1ms/step - loss: 2.8860e-06\n",
      "Epoch 103/200\n",
      "1/1 [==============================] - 0s 2ms/step - loss: 7.5834e-07\n",
      "Epoch 104/200\n",
      "1/1 [==============================] - 0s 1ms/step - loss: 3.6854e-07\n",
      "Epoch 105/200\n",
      "1/1 [==============================] - 0s 1ms/step - loss: 1.9196e-06\n",
      "Epoch 106/200\n",
      "1/1 [==============================] - 0s 2ms/step - loss: 1.0393e-06\n",
      "Epoch 107/200\n",
      "1/1 [==============================] - 0s 2ms/step - loss: 1.7050e-08\n",
      "Epoch 108/200\n",
      "1/1 [==============================] - 0s 1ms/step - loss: 1.1151e-06\n",
      "Epoch 109/200\n",
      "1/1 [==============================] - 0s 2ms/step - loss: 1.1346e-06\n",
      "Epoch 110/200\n",
      "1/1 [==============================] - 0s 1000us/step - loss: 9.8866e-08\n",
      "Epoch 111/200\n",
      "1/1 [==============================] - 0s 2ms/step - loss: 5.7220e-07\n",
      "Epoch 112/200\n",
      "1/1 [==============================] - 0s 1ms/step - loss: 1.0509e-06\n",
      "Epoch 113/200\n",
      "1/1 [==============================] - 0s 4ms/step - loss: 2.8910e-07\n",
      "Epoch 114/200\n",
      "1/1 [==============================] - 0s 2ms/step - loss: 2.8755e-07\n",
      "Epoch 115/200\n",
      "1/1 [==============================] - 0s 999us/step - loss: 8.1887e-07\n",
      "Epoch 116/200\n",
      "1/1 [==============================] - 0s 3ms/step - loss: 4.0902e-07\n",
      "Epoch 117/200\n",
      "1/1 [==============================] - 0s 2ms/step - loss: 1.4737e-07\n",
      "Epoch 118/200\n",
      "1/1 [==============================] - 0s 1000us/step - loss: 5.4769e-07\n",
      "Epoch 119/200\n",
      "1/1 [==============================] - 0s 2ms/step - loss: 4.2748e-07\n",
      "Epoch 120/200\n",
      "1/1 [==============================] - 0s 1ms/step - loss: 9.1343e-08\n",
      "Epoch 121/200\n",
      "1/1 [==============================] - 0s 1ms/step - loss: 3.2261e-07\n",
      "Epoch 122/200\n",
      "1/1 [==============================] - 0s 4ms/step - loss: 3.7692e-07\n",
      "Epoch 123/200\n",
      "1/1 [==============================] - 0s 2ms/step - loss: 7.2853e-08\n",
      "Epoch 124/200\n",
      "1/1 [==============================] - 0s 999us/step - loss: 1.5654e-07\n",
      "Epoch 125/200\n",
      "1/1 [==============================] - 0s 1ms/step - loss: 2.7397e-07\n",
      "Epoch 126/200\n",
      "1/1 [==============================] - 0s 2ms/step - loss: 7.1801e-08\n",
      "Epoch 127/200\n",
      "1/1 [==============================] - 0s 2ms/step - loss: 5.3141e-08\n",
      "Epoch 128/200\n",
      "1/1 [==============================] - 0s 1ms/step - loss: 1.9092e-07\n",
      "Epoch 129/200\n",
      "1/1 [==============================] - 0s 2ms/step - loss: 7.8288e-08\n",
      "Epoch 130/200\n",
      "1/1 [==============================] - 0s 2ms/step - loss: 1.1284e-08\n",
      "Epoch 131/200\n",
      "1/1 [==============================] - 0s 2ms/step - loss: 1.2699e-07\n",
      "Epoch 132/200\n",
      "1/1 [==============================] - 0s 2ms/step - loss: 8.1787e-08\n",
      "Epoch 133/200\n",
      "1/1 [==============================] - 0s 1ms/step - loss: 1.5963e-09\n",
      "Epoch 134/200\n",
      "1/1 [==============================] - 0s 2ms/step - loss: 8.5375e-08\n",
      "Epoch 135/200\n",
      "1/1 [==============================] - 0s 2ms/step - loss: 7.8053e-08\n",
      "Epoch 136/200\n",
      "1/1 [==============================] - 0s 1ms/step - loss: 6.7565e-09\n",
      "Epoch 137/200\n",
      "1/1 [==============================] - 0s 3ms/step - loss: 5.2007e-08\n",
      "Epoch 138/200\n",
      "1/1 [==============================] - 0s 3ms/step - loss: 7.1047e-08\n",
      "Epoch 139/200\n",
      "1/1 [==============================] - 0s 2ms/step - loss: 1.3004e-08\n",
      "Epoch 140/200\n",
      "1/1 [==============================] - 0s 1ms/step - loss: 3.1409e-08\n",
      "Epoch 141/200\n",
      "1/1 [==============================] - 0s 2ms/step - loss: 5.4433e-08\n",
      "Epoch 142/200\n",
      "1/1 [==============================] - 0s 1ms/step - loss: 1.6436e-08\n",
      "Epoch 143/200\n",
      "1/1 [==============================] - 0s 1ms/step - loss: 1.7423e-08\n",
      "Epoch 144/200\n",
      "1/1 [==============================] - 0s 2ms/step - loss: 3.9417e-08\n",
      "Epoch 145/200\n",
      "1/1 [==============================] - 0s 2ms/step - loss: 1.6443e-08\n",
      "Epoch 146/200\n",
      "1/1 [==============================] - 0s 2ms/step - loss: 9.0008e-09\n",
      "Epoch 147/200\n",
      "1/1 [==============================] - 0s 2ms/step - loss: 2.8015e-08\n",
      "Epoch 148/200\n",
      "1/1 [==============================] - 0s 2ms/step - loss: 1.2824e-08\n",
      "Epoch 149/200\n",
      "1/1 [==============================] - 0s 1ms/step - loss: 3.7238e-09\n",
      "Epoch 150/200\n",
      "1/1 [==============================] - 0s 3ms/step - loss: 1.7914e-08\n",
      "Epoch 151/200\n",
      "1/1 [==============================] - 0s 2ms/step - loss: 9.6876e-09\n",
      "Epoch 152/200\n",
      "1/1 [==============================] - 0s 5ms/step - loss: 1.3246e-09\n",
      "Epoch 153/200\n",
      "1/1 [==============================] - 0s 1ms/step - loss: 1.1055e-08\n",
      "Epoch 154/200\n",
      "1/1 [==============================] - 0s 4ms/step - loss: 6.9433e-09\n",
      "Epoch 155/200\n",
      "1/1 [==============================] - 0s 2ms/step - loss: 1.1935e-10\n",
      "Epoch 156/200\n",
      "1/1 [==============================] - 0s 2ms/step - loss: 9.4329e-09\n",
      "Epoch 157/200\n",
      "1/1 [==============================] - 0s 1ms/step - loss: 5.9053e-09\n",
      "Epoch 158/200\n",
      "1/1 [==============================] - 0s 1ms/step - loss: 2.2798e-10\n",
      "Epoch 159/200\n",
      "1/1 [==============================] - 0s 2ms/step - loss: 6.8508e-09\n",
      "Epoch 160/200\n",
      "1/1 [==============================] - 0s 3ms/step - loss: 6.1191e-09\n",
      "Epoch 161/200\n",
      "1/1 [==============================] - 0s 2ms/step - loss: 5.1983e-10\n",
      "Epoch 162/200\n",
      "1/1 [==============================] - 0s 2ms/step - loss: 5.7735e-09\n",
      "Epoch 163/200\n",
      "1/1 [==============================] - 0s 2ms/step - loss: 5.0398e-09\n",
      "Epoch 164/200\n",
      "1/1 [==============================] - 0s 2ms/step - loss: 7.7327e-10\n",
      "Epoch 165/200\n",
      "1/1 [==============================] - 0s 2ms/step - loss: 3.7346e-09\n",
      "Epoch 166/200\n",
      "1/1 [==============================] - 0s 1ms/step - loss: 3.7564e-09\n",
      "Epoch 167/200\n",
      "1/1 [==============================] - 0s 2ms/step - loss: 9.4598e-10\n",
      "Epoch 168/200\n",
      "1/1 [==============================] - 0s 2ms/step - loss: 2.2701e-09\n",
      "Epoch 169/200\n",
      "1/1 [==============================] - 0s 1000us/step - loss: 3.9574e-09\n",
      "Epoch 170/200\n",
      "1/1 [==============================] - 0s 1ms/step - loss: 7.2355e-10\n",
      "Epoch 171/200\n",
      "1/1 [==============================] - 0s 2ms/step - loss: 1.6593e-09\n",
      "Epoch 172/200\n",
      "1/1 [==============================] - 0s 1ms/step - loss: 2.7650e-09\n",
      "Epoch 173/200\n",
      "1/1 [==============================] - 0s 2ms/step - loss: 3.9533e-10\n",
      "Epoch 174/200\n",
      "1/1 [==============================] - 0s 2ms/step - loss: 1.1710e-09\n",
      "Epoch 175/200\n",
      "1/1 [==============================] - 0s 999us/step - loss: 2.1864e-09\n",
      "Epoch 176/200\n",
      "1/1 [==============================] - 0s 4ms/step - loss: 1.2379e-10\n",
      "Epoch 177/200\n",
      "1/1 [==============================] - 0s 1000us/step - loss: 7.8257e-10\n",
      "Epoch 178/200\n",
      "1/1 [==============================] - 0s 2ms/step - loss: 1.0599e-09\n",
      "Epoch 179/200\n",
      "1/1 [==============================] - 0s 3ms/step - loss: 1.0358e-10\n",
      "Epoch 180/200\n",
      "1/1 [==============================] - 0s 2ms/step - loss: 5.3923e-10\n",
      "Epoch 181/200\n",
      "1/1 [==============================] - 0s 1ms/step - loss: 1.0433e-09\n",
      "Epoch 182/200\n",
      "1/1 [==============================] - 0s 4ms/step - loss: 3.2439e-11\n",
      "Epoch 183/200\n",
      "1/1 [==============================] - 0s 2ms/step - loss: 4.1837e-10\n",
      "Epoch 184/200\n",
      "1/1 [==============================] - 0s 1ms/step - loss: 4.6809e-10\n",
      "Epoch 185/200\n",
      "1/1 [==============================] - 0s 1ms/step - loss: 5.9420e-11\n",
      "Epoch 186/200\n",
      "1/1 [==============================] - 0s 2ms/step - loss: 2.3526e-10\n",
      "Epoch 187/200\n",
      "1/1 [==============================] - 0s 2ms/step - loss: 2.4334e-10\n",
      "Epoch 188/200\n",
      "1/1 [==============================] - 0s 1ms/step - loss: 7.9631e-11\n",
      "Epoch 189/200\n",
      "1/1 [==============================] - 0s 1ms/step - loss: 1.2693e-10\n",
      "Epoch 190/200\n",
      "1/1 [==============================] - 0s 999us/step - loss: 1.2693e-10\n",
      "Epoch 191/200\n",
      "1/1 [==============================] - 0s 1ms/step - loss: 9.7922e-11\n",
      "Epoch 192/200\n",
      "1/1 [==============================] - 0s 999us/step - loss: 5.9420e-11\n",
      "Epoch 193/200\n",
      "1/1 [==============================] - 0s 3ms/step - loss: 4.5273e-11\n",
      "Epoch 194/200\n",
      "1/1 [==============================] - 0s 1ms/step - loss: 4.9315e-11\n",
      "Epoch 195/200\n",
      "1/1 [==============================] - 0s 2ms/step - loss: 6.8414e-11\n",
      "Epoch 196/200\n",
      "1/1 [==============================] - 0s 1ms/step - loss: 3.9310e-11\n",
      "Epoch 197/200\n"
     ]
    },
    {
     "name": "stdout",
     "output_type": "stream",
     "text": [
      "1/1 [==============================] - 0s 2ms/step - loss: 3.4460e-11\n",
      "Epoch 198/200\n",
      "1/1 [==============================] - 0s 2ms/step - loss: 6.6292e-11\n",
      "Epoch 199/200\n",
      "1/1 [==============================] - 0s 3ms/step - loss: 4.1230e-11\n",
      "Epoch 200/200\n",
      "1/1 [==============================] - 0s 1ms/step - loss: 1.6977e-11\n"
     ]
    }
   ],
   "source": [
    "# Now after the 4 steps we train out model.\n",
    "data = model.fit(x=x , y=y , epochs = 200)"
   ]
  },
  {
   "cell_type": "code",
   "execution_count": 16,
   "metadata": {},
   "outputs": [
    {
     "data": {
      "image/png": "[encoded data removed]",
      "text/plain": [
       "<Figure size 432x288 with 1 Axes>"
      ]
     },
     "metadata": {
      "needs_background": "light"
     },
     "output_type": "display_data"
    }
   ],
   "source": [
    "# Now Check the Loss Of out model.\n",
    "plt.plot(data.history['loss']);"
   ]
  },
  {
   "cell_type": "code",
   "execution_count": 17,
   "metadata": {},
   "outputs": [
    {
     "data": {
      "text/plain": [
       "array([[200.00002]], dtype=float32)"
      ]
     },
     "execution_count": 17,
     "metadata": {},
     "output_type": "execute_result"
    }
   ],
   "source": [
    "# Now we chekc the prediction of 20 , 30 , 46\n",
    "model.predict([20])"
   ]
  },
  {
   "cell_type": "code",
   "execution_count": 18,
   "metadata": {},
   "outputs": [
    {
     "data": {
      "text/plain": [
       "array([[300.]], dtype=float32)"
      ]
     },
     "execution_count": 18,
     "metadata": {},
     "output_type": "execute_result"
    }
   ],
   "source": [
    "model.predict([30])"
   ]
  },
  {
   "cell_type": "code",
   "execution_count": 19,
   "metadata": {},
   "outputs": [
    {
     "data": {
      "text/plain": [
       "array([[320.00003]], dtype=float32)"
      ]
     },
     "execution_count": 19,
     "metadata": {},
     "output_type": "execute_result"
    }
   ],
   "source": [
    "model.predict([32])"
   ]
  },
  {
   "cell_type": "markdown",
   "metadata": {},
   "source": [
    "<h3>Hence the prediction is accurate with less error. So we says that our Neural Network Learn very Well.</h3>"
   ]
  },
  {
   "cell_type": "code",
   "execution_count": null,
   "metadata": {},
   "outputs": [],
   "source": []
  },
  {
   "cell_type": "code",
   "execution_count": null,
   "metadata": {},
   "outputs": [],
   "source": []
  },
  {
   "cell_type": "code",
   "execution_count": null,
   "metadata": {},
   "outputs": [],
   "source": []
  },
  {
   "cell_type": "code",
   "execution_count": null,
   "metadata": {},
   "outputs": [],
   "source": []
  }
 ],
 "metadata": {
  "kernelspec": {
   "display_name": "Python 3",
   "language": "python",
   "name": "python3"
  },
  "language_info": {
   "codemirror_mode": {
    "name": "ipython",
    "version": 3
   },
   "file_extension": ".py",
   "mimetype": "text/x-python",
   "name": "python",
   "nbconvert_exporter": "python",
   "pygments_lexer": "ipython3",
   "version": "3.8.3"
  }
 },
 "nbformat": 4,
 "nbformat_minor": 4
}
